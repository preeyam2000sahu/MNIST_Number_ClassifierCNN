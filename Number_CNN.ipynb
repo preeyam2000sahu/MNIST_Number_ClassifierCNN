{
  "nbformat": 4,
  "nbformat_minor": 0,
  "metadata": {
    "colab": {
      "name": "Number_CNN.ipynb",
      "provenance": [],
      "authorship_tag": "ABX9TyN+yFcq01nne/WKf5tvrqmk",
      "include_colab_link": true
    },
    "kernelspec": {
      "name": "python3",
      "display_name": "Python 3"
    }
  },
  "cells": [
    {
      "cell_type": "markdown",
      "metadata": {
        "id": "view-in-github",
        "colab_type": "text"
      },
      "source": [
        "<a href=\"https://colab.research.google.com/github/preeyam2000sahu/MNIST_Number_ClassifierCNN/blob/main/Number_CNN.ipynb\" target=\"_parent\"><img src=\"https://colab.research.google.com/assets/colab-badge.svg\" alt=\"Open In Colab\"/></a>"
      ]
    },
    {
      "cell_type": "code",
      "metadata": {
        "id": "UUPCA5RNiY4Y"
      },
      "source": [
        "import numpy as np\n",
        "from tensorflow import keras\n",
        "from tensorflow.keras import layers\n",
        "import matplotlib.pyplot as plt"
      ],
      "execution_count": 28,
      "outputs": []
    },
    {
      "cell_type": "code",
      "metadata": {
        "id": "kBUrBXS5ik3J"
      },
      "source": [
        "num_classes=10\n",
        "input_shape=(28,28,1)"
      ],
      "execution_count": 29,
      "outputs": []
    },
    {
      "cell_type": "code",
      "metadata": {
        "id": "oxvX6Shviv29"
      },
      "source": [
        "(x_train,y_train),(x_test,y_test)=keras.datasets.mnist.load_data()"
      ],
      "execution_count": 30,
      "outputs": []
    },
    {
      "cell_type": "markdown",
      "metadata": {
        "id": "alRpL47hjKp6"
      },
      "source": [
        "Normalization of the grayscale pixel values between 0 and 255"
      ]
    },
    {
      "cell_type": "code",
      "metadata": {
        "colab": {
          "base_uri": "https://localhost:8080/"
        },
        "id": "9bnHy9KNjIoL",
        "outputId": "460f5313-b52b-4a75-c2a5-a7589003b60d"
      },
      "source": [
        "x_train=(x_train.astype('float32'))/255\n",
        "x_test=(x_test.astype('float32'))/255\n",
        "print(x_train.shape)\n",
        "x_train=np.expand_dims(x_train,-1);\n",
        "x_test=np.expand_dims(x_test,-1);\n",
        "print(x_train.shape)"
      ],
      "execution_count": 31,
      "outputs": [
        {
          "output_type": "stream",
          "text": [
            "(60000, 28, 28)\n",
            "(60000, 28, 28, 1)\n"
          ],
          "name": "stdout"
        }
      ]
    },
    {
      "cell_type": "code",
      "metadata": {
        "id": "qTC0MZN-qSuA"
      },
      "source": [
        "%matplotlib inline\n",
        "import matplotlib\n",
        "import matplotlib.pyplot as plt\n",
        "\n",
        "def show_image_and_label(x, y):\n",
        "    x_reshaped = x.reshape(28,28)\n",
        "    plt.imshow(x_reshaped, cmap= \"gray\",\n",
        "              interpolation=\"nearest\")\n",
        "    plt.axis(\"off\")\n",
        "    plt.show()\n",
        "    print(y)"
      ],
      "execution_count": 32,
      "outputs": []
    },
    {
      "cell_type": "code",
      "metadata": {
        "colab": {
          "base_uri": "https://localhost:8080/",
          "height": 282
        },
        "id": "09Xy00gvqWmu",
        "outputId": "6e1543d6-37db-48f2-9c89-66fe51e66161"
      },
      "source": [
        "x_pixels = np.array(x_train[0], 'float32')\n",
        "x_pixels /= 255\n",
        "show_image_and_label(x_pixels, y_train[0])\n",
        "print(y_train.shape)"
      ],
      "execution_count": 33,
      "outputs": [
        {
          "output_type": "display_data",
          "data": {
            "image/png": "[encoded data removed]",
            "text/plain": [
              "<Figure size 432x288 with 1 Axes>"
            ]
          },
          "metadata": {
            "tags": [],
            "needs_background": "light"
          }
        },
        {
          "output_type": "stream",
          "text": [
            "5\n",
            "(60000,)\n"
          ],
          "name": "stdout"
        }
      ]
    },
    {
      "cell_type": "markdown",
      "metadata": {
        "id": "AoxY5Eh4l6hy"
      },
      "source": [
        "Binary class matrices"
      ]
    },
    {
      "cell_type": "code",
      "metadata": {
        "id": "On8OJ6aWl6HC"
      },
      "source": [
        "y_train=keras.utils.to_categorical(y_train,num_classes)\n",
        "y_test=keras.utils.to_categorical(y_test,num_classes)"
      ],
      "execution_count": 34,
      "outputs": []
    },
    {
      "cell_type": "code",
      "metadata": {
        "colab": {
          "base_uri": "https://localhost:8080/"
        },
        "id": "3nNDqA5YmbaK",
        "outputId": "8d2682fa-9334-463f-922b-92a128c86e74"
      },
      "source": [
        "model=keras.Sequential(\n",
        "    [\n",
        "     keras.Input(input_shape),\n",
        "     layers.Conv2D(32,kernel_size=(3,3),activation='relu'),\n",
        "     layers.MaxPool2D(pool_size=(2,2)),\n",
        "     layers.Conv2D(64,kernel_size=(3,3),activation='relu'),\n",
        "     layers.MaxPool2D(pool_size=(2,2)),\n",
        "     layers.Flatten(),\n",
        "     layers.Dropout(0.5),\n",
        "     layers.Dense(num_classes,activation='softmax'),\n",
        "\n",
        "\n",
        "\n",
        "\n",
        "    ]\n",
        ")\n",
        "\n",
        "model.summary()"
      ],
      "execution_count": 35,
      "outputs": [
        {
          "output_type": "stream",
          "text": [
            "Model: \"sequential_1\"\n",
            "_________________________________________________________________\n",
            "Layer (type)                 Output Shape              Param #   \n",
            "=================================================================\n",
            "conv2d_4 (Conv2D)            (None, 26, 26, 32)        320       \n",
            "_________________________________________________________________\n",
            "max_pooling2d_4 (MaxPooling2 (None, 13, 13, 32)        0         \n",
            "_________________________________________________________________\n",
            "conv2d_5 (Conv2D)            (None, 11, 11, 64)        18496     \n",
            "_________________________________________________________________\n",
            "max_pooling2d_5 (MaxPooling2 (None, 5, 5, 64)          0         \n",
            "_________________________________________________________________\n",
            "flatten_2 (Flatten)          (None, 1600)              0         \n",
            "_________________________________________________________________\n",
            "dropout_2 (Dropout)          (None, 1600)              0         \n",
            "_________________________________________________________________\n",
            "dense_1 (Dense)              (None, 10)                16010     \n",
            "=================================================================\n",
            "Total params: 34,826\n",
            "Trainable params: 34,826\n",
            "Non-trainable params: 0\n",
            "_________________________________________________________________\n"
          ],
          "name": "stdout"
        }
      ]
    },
    {
      "cell_type": "code",
      "metadata": {
        "colab": {
          "base_uri": "https://localhost:8080/"
        },
        "id": "_61YDcw4n9Ju",
        "outputId": "abc1ec41-c276-459a-906d-b3db312b0669"
      },
      "source": [
        "batch=128\n",
        "epochs=15\n",
        "model.compile(loss='categorical_crossentropy',optimizer='adam',metrics=['accuracy'])\n",
        "history=model.fit(x_train,y_train,epochs=epochs,batch_size=batch,validation_split=0.1)\n"
      ],
      "execution_count": 36,
      "outputs": [
        {
          "output_type": "stream",
          "text": [
            "Epoch 1/15\n",
            "422/422 [==============================] - 43s 100ms/step - loss: 0.7692 - accuracy: 0.7670 - val_loss: 0.0833 - val_accuracy: 0.9777\n",
            "Epoch 2/15\n",
            "422/422 [==============================] - 43s 102ms/step - loss: 0.1205 - accuracy: 0.9633 - val_loss: 0.0610 - val_accuracy: 0.9822\n",
            "Epoch 3/15\n",
            "422/422 [==============================] - 42s 99ms/step - loss: 0.0893 - accuracy: 0.9726 - val_loss: 0.0471 - val_accuracy: 0.9868\n",
            "Epoch 4/15\n",
            "422/422 [==============================] - 42s 100ms/step - loss: 0.0701 - accuracy: 0.9786 - val_loss: 0.0437 - val_accuracy: 0.9885\n",
            "Epoch 5/15\n",
            "422/422 [==============================] - 42s 101ms/step - loss: 0.0625 - accuracy: 0.9806 - val_loss: 0.0382 - val_accuracy: 0.9903\n",
            "Epoch 6/15\n",
            "422/422 [==============================] - 42s 100ms/step - loss: 0.0560 - accuracy: 0.9822 - val_loss: 0.0352 - val_accuracy: 0.9907\n",
            "Epoch 7/15\n",
            "422/422 [==============================] - 42s 99ms/step - loss: 0.0487 - accuracy: 0.9846 - val_loss: 0.0343 - val_accuracy: 0.9905\n",
            "Epoch 8/15\n",
            "422/422 [==============================] - 41s 98ms/step - loss: 0.0452 - accuracy: 0.9853 - val_loss: 0.0326 - val_accuracy: 0.9912\n",
            "Epoch 9/15\n",
            "422/422 [==============================] - 42s 100ms/step - loss: 0.0427 - accuracy: 0.9868 - val_loss: 0.0305 - val_accuracy: 0.9915\n",
            "Epoch 10/15\n",
            "422/422 [==============================] - 41s 98ms/step - loss: 0.0416 - accuracy: 0.9864 - val_loss: 0.0314 - val_accuracy: 0.9918\n",
            "Epoch 11/15\n",
            "422/422 [==============================] - 41s 97ms/step - loss: 0.0389 - accuracy: 0.9872 - val_loss: 0.0310 - val_accuracy: 0.9920\n",
            "Epoch 12/15\n",
            "422/422 [==============================] - 41s 97ms/step - loss: 0.0357 - accuracy: 0.9887 - val_loss: 0.0310 - val_accuracy: 0.9915\n",
            "Epoch 13/15\n",
            "422/422 [==============================] - 42s 99ms/step - loss: 0.0351 - accuracy: 0.9885 - val_loss: 0.0299 - val_accuracy: 0.9912\n",
            "Epoch 14/15\n",
            "422/422 [==============================] - 42s 99ms/step - loss: 0.0319 - accuracy: 0.9896 - val_loss: 0.0278 - val_accuracy: 0.9918\n",
            "Epoch 15/15\n",
            "422/422 [==============================] - 41s 98ms/step - loss: 0.0286 - accuracy: 0.9900 - val_loss: 0.0290 - val_accuracy: 0.9922\n"
          ],
          "name": "stdout"
        }
      ]
    },
    {
      "cell_type": "code",
      "metadata": {
        "colab": {
          "base_uri": "https://localhost:8080/"
        },
        "id": "zmLnQUnFpiN4",
        "outputId": "f50770aa-6a38-41d1-a34f-b2c650fd2b9a"
      },
      "source": [
        "score=model.evaluate(x_test,y_test,verbose=0)\n",
        "print(\"test_loss:\",score[0])\n",
        "print(\"test_acc\",score[1])"
      ],
      "execution_count": 37,
      "outputs": [
        {
          "output_type": "stream",
          "text": [
            "test_loss: 0.02252396196126938\n",
            "test_acc 0.9923999905586243\n"
          ],
          "name": "stdout"
        }
      ]
    },
    {
      "cell_type": "code",
      "metadata": {
        "colab": {
          "base_uri": "https://localhost:8080/",
          "height": 295
        },
        "id": "pUYBeIRD5OZi",
        "outputId": "2175e0c3-8cae-43a4-ab67-de4c432f51ab"
      },
      "source": [
        "plt.plot(history.history['accuracy'])\n",
        "plt.plot(history.history['val_accuracy'])\n",
        "plt.title('model accuracy')\n",
        "plt.ylabel('accuracy')\n",
        "plt.xlabel('epoch')\n",
        "plt.legend(['train', 'test'], loc='upper left')\n",
        "plt.show()"
      ],
      "execution_count": 38,
      "outputs": [
        {
          "output_type": "display_data",
          "data": {
            "image/png": "[encoded data removed]",
            "text/plain": [
              "<Figure size 432x288 with 1 Axes>"
            ]
          },
          "metadata": {
            "tags": [],
            "needs_background": "light"
          }
        }
      ]
    },
    {
      "cell_type": "code",
      "metadata": {
        "colab": {
          "base_uri": "https://localhost:8080/",
          "height": 295
        },
        "id": "BPpQtKVl8BFY",
        "outputId": "950afdc0-62a1-461f-8c77-9cac687f96af"
      },
      "source": [
        "plt.plot(history.history['loss'])\n",
        "plt.plot(history.history['val_loss'])\n",
        "plt.title('model loss')\n",
        "plt.ylabel('loss')\n",
        "plt.xlabel('epoch')\n",
        "plt.legend(['train', 'test'], loc='upper left')\n",
        "plt.show()"
      ],
      "execution_count": 39,
      "outputs": [
        {
          "output_type": "display_data",
          "data": {
            "image/png": "[encoded data removed]",
            "text/plain": [
              "<Figure size 432x288 with 1 Axes>"
            ]
          },
          "metadata": {
            "tags": [],
            "needs_background": "light"
          }
        }
      ]
    }
  ]
}